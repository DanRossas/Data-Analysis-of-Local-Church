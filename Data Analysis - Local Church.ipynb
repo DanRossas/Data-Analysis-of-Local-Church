{
 "cells": [
  {
   "cell_type": "markdown",
   "id": "6a8e3858",
   "metadata": {},
   "source": [
    "# Data Analysis-Local Church\n",
    "## This is a gender analysis of people serving at a local church in different areas"
   ]
  },
  {
   "cell_type": "code",
   "execution_count": 1,
   "id": "62b16291",
   "metadata": {},
   "outputs": [],
   "source": [
    "import pandas as pd"
   ]
  },
  {
   "cell_type": "code",
   "execution_count": 2,
   "id": "8ab161f4",
   "metadata": {},
   "outputs": [],
   "source": [
    "from matplotlib import pyplot as plt"
   ]
  },
  {
   "cell_type": "code",
   "execution_count": 3,
   "id": "e9e3adfe",
   "metadata": {},
   "outputs": [],
   "source": [
    "import numpy as np"
   ]
  },
  {
   "cell_type": "code",
   "execution_count": 35,
   "id": "90febcae",
   "metadata": {},
   "outputs": [],
   "source": [
    "church_data = pd.read_csv('Data_church_service.csv')"
   ]
  },
  {
   "cell_type": "code",
   "execution_count": 36,
   "id": "bee27720",
   "metadata": {},
   "outputs": [
    {
     "name": "stdout",
     "output_type": "stream",
     "text": [
      "<class 'pandas.core.frame.DataFrame'>\n",
      "RangeIndex: 711 entries, 0 to 710\n",
      "Data columns (total 3 columns):\n",
      " #   Column                    Non-Null Count  Dtype \n",
      "---  ------                    --------------  ----- \n",
      " 0   Unnamed: 0                711 non-null    int64 \n",
      " 1   Gender                    540 non-null    object\n",
      " 2   Servicio :: Sirviendo en  97 non-null     object\n",
      "dtypes: int64(1), object(2)\n",
      "memory usage: 16.8+ KB\n"
     ]
    }
   ],
   "source": [
    "church_data.info()"
   ]
  },
  {
   "cell_type": "code",
   "execution_count": 37,
   "id": "38e42d54",
   "metadata": {},
   "outputs": [
    {
     "data": {
      "text/html": [
       "<div>\n",
       "<style scoped>\n",
       "    .dataframe tbody tr th:only-of-type {\n",
       "        vertical-align: middle;\n",
       "    }\n",
       "\n",
       "    .dataframe tbody tr th {\n",
       "        vertical-align: top;\n",
       "    }\n",
       "\n",
       "    .dataframe thead th {\n",
       "        text-align: right;\n",
       "    }\n",
       "</style>\n",
       "<table border=\"1\" class=\"dataframe\">\n",
       "  <thead>\n",
       "    <tr style=\"text-align: right;\">\n",
       "      <th></th>\n",
       "      <th>Unnamed: 0</th>\n",
       "      <th>Gender</th>\n",
       "      <th>Servicio :: Sirviendo en</th>\n",
       "    </tr>\n",
       "  </thead>\n",
       "  <tbody>\n",
       "    <tr>\n",
       "      <th>0</th>\n",
       "      <td>0</td>\n",
       "      <td>M</td>\n",
       "      <td>NaN</td>\n",
       "    </tr>\n",
       "    <tr>\n",
       "      <th>1</th>\n",
       "      <td>1</td>\n",
       "      <td>M</td>\n",
       "      <td>NaN</td>\n",
       "    </tr>\n",
       "    <tr>\n",
       "      <th>2</th>\n",
       "      <td>2</td>\n",
       "      <td>F</td>\n",
       "      <td>NaN</td>\n",
       "    </tr>\n",
       "    <tr>\n",
       "      <th>3</th>\n",
       "      <td>3</td>\n",
       "      <td>M</td>\n",
       "      <td>Música</td>\n",
       "    </tr>\n",
       "    <tr>\n",
       "      <th>4</th>\n",
       "      <td>4</td>\n",
       "      <td>M</td>\n",
       "      <td>NaN</td>\n",
       "    </tr>\n",
       "  </tbody>\n",
       "</table>\n",
       "</div>"
      ],
      "text/plain": [
       "   Unnamed: 0 Gender Servicio :: Sirviendo en\n",
       "0           0      M                      NaN\n",
       "1           1      M                      NaN\n",
       "2           2      F                      NaN\n",
       "3           3      M                   Música\n",
       "4           4      M                      NaN"
      ]
     },
     "execution_count": 37,
     "metadata": {},
     "output_type": "execute_result"
    }
   ],
   "source": [
    "church_data.head()"
   ]
  },
  {
   "cell_type": "markdown",
   "id": "252fda5f",
   "metadata": {},
   "source": [
    "### Data Cleaning"
   ]
  },
  {
   "cell_type": "code",
   "execution_count": 38,
   "id": "4bf20999",
   "metadata": {},
   "outputs": [],
   "source": [
    "church_data.columns = ['Index', 'Gender', 'Service']"
   ]
  },
  {
   "cell_type": "code",
   "execution_count": 39,
   "id": "b015be4b",
   "metadata": {},
   "outputs": [
    {
     "data": {
      "text/html": [
       "<div>\n",
       "<style scoped>\n",
       "    .dataframe tbody tr th:only-of-type {\n",
       "        vertical-align: middle;\n",
       "    }\n",
       "\n",
       "    .dataframe tbody tr th {\n",
       "        vertical-align: top;\n",
       "    }\n",
       "\n",
       "    .dataframe thead th {\n",
       "        text-align: right;\n",
       "    }\n",
       "</style>\n",
       "<table border=\"1\" class=\"dataframe\">\n",
       "  <thead>\n",
       "    <tr style=\"text-align: right;\">\n",
       "      <th></th>\n",
       "      <th>Index</th>\n",
       "      <th>Gender</th>\n",
       "      <th>Service</th>\n",
       "    </tr>\n",
       "  </thead>\n",
       "  <tbody>\n",
       "    <tr>\n",
       "      <th>0</th>\n",
       "      <td>0</td>\n",
       "      <td>M</td>\n",
       "      <td>NaN</td>\n",
       "    </tr>\n",
       "    <tr>\n",
       "      <th>1</th>\n",
       "      <td>1</td>\n",
       "      <td>M</td>\n",
       "      <td>NaN</td>\n",
       "    </tr>\n",
       "    <tr>\n",
       "      <th>2</th>\n",
       "      <td>2</td>\n",
       "      <td>F</td>\n",
       "      <td>NaN</td>\n",
       "    </tr>\n",
       "    <tr>\n",
       "      <th>3</th>\n",
       "      <td>3</td>\n",
       "      <td>M</td>\n",
       "      <td>Música</td>\n",
       "    </tr>\n",
       "    <tr>\n",
       "      <th>4</th>\n",
       "      <td>4</td>\n",
       "      <td>M</td>\n",
       "      <td>NaN</td>\n",
       "    </tr>\n",
       "  </tbody>\n",
       "</table>\n",
       "</div>"
      ],
      "text/plain": [
       "   Index Gender Service\n",
       "0      0      M     NaN\n",
       "1      1      M     NaN\n",
       "2      2      F     NaN\n",
       "3      3      M  Música\n",
       "4      4      M     NaN"
      ]
     },
     "execution_count": 39,
     "metadata": {},
     "output_type": "execute_result"
    }
   ],
   "source": [
    "church_data.head()"
   ]
  },
  {
   "cell_type": "code",
   "execution_count": 40,
   "id": "8febe1a7",
   "metadata": {},
   "outputs": [],
   "source": [
    "church_data = church_data[['Gender', 'Service']]"
   ]
  },
  {
   "cell_type": "code",
   "execution_count": 41,
   "id": "c8d8dbde",
   "metadata": {},
   "outputs": [
    {
     "name": "stdout",
     "output_type": "stream",
     "text": [
      "711\n"
     ]
    }
   ],
   "source": [
    "print(len(church_data))"
   ]
  },
  {
   "cell_type": "code",
   "execution_count": 42,
   "id": "d6207cef",
   "metadata": {},
   "outputs": [
    {
     "data": {
      "text/plain": [
       "Gender     True\n",
       "Service    True\n",
       "dtype: bool"
      ]
     },
     "execution_count": 42,
     "metadata": {},
     "output_type": "execute_result"
    }
   ],
   "source": [
    "church_data.isna().any()"
   ]
  },
  {
   "cell_type": "markdown",
   "id": "4629c56e",
   "metadata": {},
   "source": [
    "#### Keep only data of people actually serving at the local church"
   ]
  },
  {
   "cell_type": "code",
   "execution_count": 43,
   "id": "00a0bf66",
   "metadata": {},
   "outputs": [],
   "source": [
    "clean_church_data = church_data.dropna()"
   ]
  },
  {
   "cell_type": "code",
   "execution_count": 44,
   "id": "8d2c15a5",
   "metadata": {},
   "outputs": [
    {
     "data": {
      "text/plain": [
       "Gender     False\n",
       "Service    False\n",
       "dtype: bool"
      ]
     },
     "execution_count": 44,
     "metadata": {},
     "output_type": "execute_result"
    }
   ],
   "source": [
    "clean_church_data.isna().any()"
   ]
  },
  {
   "cell_type": "markdown",
   "id": "4f78e5d4",
   "metadata": {},
   "source": [
    "How many people are serving at church according to the list?"
   ]
  },
  {
   "cell_type": "code",
   "execution_count": 45,
   "id": "b83abcad",
   "metadata": {},
   "outputs": [
    {
     "name": "stdout",
     "output_type": "stream",
     "text": [
      "75\n"
     ]
    }
   ],
   "source": [
    "print(len(clean_church_data))"
   ]
  },
  {
   "cell_type": "markdown",
   "id": "03e9ce20",
   "metadata": {},
   "source": [
    "### Women serving at church"
   ]
  },
  {
   "cell_type": "code",
   "execution_count": 46,
   "id": "be74e1d1",
   "metadata": {},
   "outputs": [],
   "source": [
    "women_church = clean_church_data[clean_church_data['Gender'] == 'F']"
   ]
  },
  {
   "cell_type": "code",
   "execution_count": 47,
   "id": "fc07d8bc",
   "metadata": {},
   "outputs": [
    {
     "data": {
      "text/html": [
       "<div>\n",
       "<style scoped>\n",
       "    .dataframe tbody tr th:only-of-type {\n",
       "        vertical-align: middle;\n",
       "    }\n",
       "\n",
       "    .dataframe tbody tr th {\n",
       "        vertical-align: top;\n",
       "    }\n",
       "\n",
       "    .dataframe thead th {\n",
       "        text-align: right;\n",
       "    }\n",
       "</style>\n",
       "<table border=\"1\" class=\"dataframe\">\n",
       "  <thead>\n",
       "    <tr style=\"text-align: right;\">\n",
       "      <th></th>\n",
       "      <th>Gender</th>\n",
       "      <th>Service</th>\n",
       "    </tr>\n",
       "  </thead>\n",
       "  <tbody>\n",
       "    <tr>\n",
       "      <th>0</th>\n",
       "      <td>F</td>\n",
       "      <td>Multimedia/Sonido</td>\n",
       "    </tr>\n",
       "    <tr>\n",
       "      <th>1</th>\n",
       "      <td>F</td>\n",
       "      <td>Música</td>\n",
       "    </tr>\n",
       "    <tr>\n",
       "      <th>2</th>\n",
       "      <td>F</td>\n",
       "      <td>Líder de Grupo</td>\n",
       "    </tr>\n",
       "    <tr>\n",
       "      <th>3</th>\n",
       "      <td>F</td>\n",
       "      <td>Mujeres Conexión</td>\n",
       "    </tr>\n",
       "    <tr>\n",
       "      <th>4</th>\n",
       "      <td>F</td>\n",
       "      <td>Vertical Kids</td>\n",
       "    </tr>\n",
       "  </tbody>\n",
       "</table>\n",
       "</div>"
      ],
      "text/plain": [
       "  Gender            Service\n",
       "0      F  Multimedia/Sonido\n",
       "1      F             Música\n",
       "2      F     Líder de Grupo\n",
       "3      F   Mujeres Conexión\n",
       "4      F      Vertical Kids"
      ]
     },
     "execution_count": 47,
     "metadata": {},
     "output_type": "execute_result"
    }
   ],
   "source": [
    "women_church.reset_index(drop=True).head()"
   ]
  },
  {
   "cell_type": "markdown",
   "id": "ad683993",
   "metadata": {},
   "source": [
    "How many women at serving at the local church?"
   ]
  },
  {
   "cell_type": "code",
   "execution_count": 48,
   "id": "d4d4b22e",
   "metadata": {},
   "outputs": [
    {
     "name": "stdout",
     "output_type": "stream",
     "text": [
      "42\n"
     ]
    }
   ],
   "source": [
    "print(len(women_church))"
   ]
  },
  {
   "cell_type": "markdown",
   "id": "3ce2cf95",
   "metadata": {},
   "source": [
    "In how many different areas are women serving?"
   ]
  },
  {
   "cell_type": "code",
   "execution_count": 49,
   "id": "686820f6",
   "metadata": {},
   "outputs": [
    {
     "data": {
      "text/plain": [
       "22"
      ]
     },
     "execution_count": 49,
     "metadata": {},
     "output_type": "execute_result"
    }
   ],
   "source": [
    "women_service = women_church['Service'].unique()\n",
    "len(women_service)"
   ]
  },
  {
   "cell_type": "markdown",
   "id": "dddb3999",
   "metadata": {},
   "source": [
    "How many women are per area of service?"
   ]
  },
  {
   "cell_type": "code",
   "execution_count": 50,
   "id": "2a1716f7",
   "metadata": {},
   "outputs": [
    {
     "name": "stdout",
     "output_type": "stream",
     "text": [
      "Vertical Kids                                          7\n",
      "Anfitriones                                            6\n",
      "Cafetería;Vertical Kids                                3\n",
      "Uno+                                                   3\n",
      "Música                                                 3\n",
      " Líder de Grupo                                        2\n",
      "Jovenes Conexión                                       2\n",
      " Líder de Grupo;Mujeres Conexión                       2\n",
      "Multimedia/Sonido                                      1\n",
      "Anfitriones;Cafetería;Jovenes Conexión                 1\n",
      "Jovenes Conexión;Vertical Kids;Team Creativo           1\n",
      " Líder de Grupo;Música;Vertical Kids                   1\n",
      "Cafetería;Jovenes Conexión;Música;Vertical Kids        1\n",
      " Líder de Grupo;Cafetería;Comunidad Vertical           1\n",
      "Administración                                         1\n",
      "Administración; Líder de Grupo;Mujeres Conexión        1\n",
      "Administración; Líder de Grupo;Música;Vertical Kids    1\n",
      " Líder de Grupo;Música                                 1\n",
      " Líder de Grupo;Cafetería;Team Creativo                1\n",
      "Anfitriones;Vertical Kids                              1\n",
      "Mujeres Conexión                                       1\n",
      "Anfitriones;Cafetería                                  1\n",
      "Name: Service, dtype: int64\n"
     ]
    }
   ],
   "source": [
    "women_serv_counts = women_church['Service'].value_counts(normalize=False)\n",
    "print(women_serv_counts)"
   ]
  },
  {
   "cell_type": "markdown",
   "id": "b259f921",
   "metadata": {},
   "source": [
    "Note: Data in the service column is joined with semicolons "
   ]
  },
  {
   "cell_type": "code",
   "execution_count": 51,
   "id": "9281b494",
   "metadata": {},
   "outputs": [],
   "source": [
    "split_service_women = women_church['Service'].str.split(';', expand=True)"
   ]
  },
  {
   "cell_type": "code",
   "execution_count": 52,
   "id": "f1f101c4",
   "metadata": {},
   "outputs": [
    {
     "data": {
      "text/html": [
       "<div>\n",
       "<style scoped>\n",
       "    .dataframe tbody tr th:only-of-type {\n",
       "        vertical-align: middle;\n",
       "    }\n",
       "\n",
       "    .dataframe tbody tr th {\n",
       "        vertical-align: top;\n",
       "    }\n",
       "\n",
       "    .dataframe thead th {\n",
       "        text-align: right;\n",
       "    }\n",
       "</style>\n",
       "<table border=\"1\" class=\"dataframe\">\n",
       "  <thead>\n",
       "    <tr style=\"text-align: right;\">\n",
       "      <th></th>\n",
       "      <th>0</th>\n",
       "      <th>1</th>\n",
       "      <th>2</th>\n",
       "      <th>3</th>\n",
       "    </tr>\n",
       "  </thead>\n",
       "  <tbody>\n",
       "    <tr>\n",
       "      <th>0</th>\n",
       "      <td>Multimedia/Sonido</td>\n",
       "      <td>None</td>\n",
       "      <td>None</td>\n",
       "      <td>None</td>\n",
       "    </tr>\n",
       "    <tr>\n",
       "      <th>1</th>\n",
       "      <td>Música</td>\n",
       "      <td>None</td>\n",
       "      <td>None</td>\n",
       "      <td>None</td>\n",
       "    </tr>\n",
       "    <tr>\n",
       "      <th>2</th>\n",
       "      <td>Líder de Grupo</td>\n",
       "      <td>None</td>\n",
       "      <td>None</td>\n",
       "      <td>None</td>\n",
       "    </tr>\n",
       "    <tr>\n",
       "      <th>3</th>\n",
       "      <td>Mujeres Conexión</td>\n",
       "      <td>None</td>\n",
       "      <td>None</td>\n",
       "      <td>None</td>\n",
       "    </tr>\n",
       "    <tr>\n",
       "      <th>4</th>\n",
       "      <td>Vertical Kids</td>\n",
       "      <td>None</td>\n",
       "      <td>None</td>\n",
       "      <td>None</td>\n",
       "    </tr>\n",
       "  </tbody>\n",
       "</table>\n",
       "</div>"
      ],
      "text/plain": [
       "                   0     1     2     3\n",
       "0  Multimedia/Sonido  None  None  None\n",
       "1             Música  None  None  None\n",
       "2     Líder de Grupo  None  None  None\n",
       "3   Mujeres Conexión  None  None  None\n",
       "4      Vertical Kids  None  None  None"
      ]
     },
     "execution_count": 52,
     "metadata": {},
     "output_type": "execute_result"
    }
   ],
   "source": [
    "split_service_women.reset_index(drop=True).head()"
   ]
  },
  {
   "cell_type": "markdown",
   "id": "392554f7",
   "metadata": {},
   "source": [
    "### Count again areas of service with split columns"
   ]
  },
  {
   "cell_type": "code",
   "execution_count": 53,
   "id": "9e270563",
   "metadata": {},
   "outputs": [],
   "source": [
    "count_split_service_women = split_service_women.apply(pd.value_counts)"
   ]
  },
  {
   "cell_type": "code",
   "execution_count": 54,
   "id": "d35b1989",
   "metadata": {},
   "outputs": [
    {
     "data": {
      "text/html": [
       "<div>\n",
       "<style scoped>\n",
       "    .dataframe tbody tr th:only-of-type {\n",
       "        vertical-align: middle;\n",
       "    }\n",
       "\n",
       "    .dataframe tbody tr th {\n",
       "        vertical-align: top;\n",
       "    }\n",
       "\n",
       "    .dataframe thead th {\n",
       "        text-align: right;\n",
       "    }\n",
       "</style>\n",
       "<table border=\"1\" class=\"dataframe\">\n",
       "  <thead>\n",
       "    <tr style=\"text-align: right;\">\n",
       "      <th></th>\n",
       "      <th>0</th>\n",
       "      <th>1</th>\n",
       "      <th>2</th>\n",
       "      <th>3</th>\n",
       "    </tr>\n",
       "  </thead>\n",
       "  <tbody>\n",
       "    <tr>\n",
       "      <th>Líder de Grupo</th>\n",
       "      <td>8.0</td>\n",
       "      <td>2.0</td>\n",
       "      <td>NaN</td>\n",
       "      <td>NaN</td>\n",
       "    </tr>\n",
       "    <tr>\n",
       "      <th>Administración</th>\n",
       "      <td>3.0</td>\n",
       "      <td>NaN</td>\n",
       "      <td>NaN</td>\n",
       "      <td>NaN</td>\n",
       "    </tr>\n",
       "    <tr>\n",
       "      <th>Anfitriones</th>\n",
       "      <td>9.0</td>\n",
       "      <td>NaN</td>\n",
       "      <td>NaN</td>\n",
       "      <td>NaN</td>\n",
       "    </tr>\n",
       "    <tr>\n",
       "      <th>Cafetería</th>\n",
       "      <td>4.0</td>\n",
       "      <td>4.0</td>\n",
       "      <td>NaN</td>\n",
       "      <td>NaN</td>\n",
       "    </tr>\n",
       "    <tr>\n",
       "      <th>Comunidad Vertical</th>\n",
       "      <td>NaN</td>\n",
       "      <td>NaN</td>\n",
       "      <td>1.0</td>\n",
       "      <td>NaN</td>\n",
       "    </tr>\n",
       "  </tbody>\n",
       "</table>\n",
       "</div>"
      ],
      "text/plain": [
       "                      0    1    2   3\n",
       " Líder de Grupo     8.0  2.0  NaN NaN\n",
       "Administración      3.0  NaN  NaN NaN\n",
       "Anfitriones         9.0  NaN  NaN NaN\n",
       "Cafetería           4.0  4.0  NaN NaN\n",
       "Comunidad Vertical  NaN  NaN  1.0 NaN"
      ]
     },
     "execution_count": 54,
     "metadata": {},
     "output_type": "execute_result"
    }
   ],
   "source": [
    "count_split_service_women.head()"
   ]
  },
  {
   "cell_type": "markdown",
   "id": "ac5725f9",
   "metadata": {},
   "source": [
    "Replace NaN with zeroes for addition"
   ]
  },
  {
   "cell_type": "code",
   "execution_count": 55,
   "id": "af0798bd",
   "metadata": {},
   "outputs": [],
   "source": [
    "zero_split_service_women = count_split_service_women.replace(np.nan, 0)"
   ]
  },
  {
   "cell_type": "code",
   "execution_count": 56,
   "id": "c7514eff",
   "metadata": {},
   "outputs": [
    {
     "data": {
      "text/html": [
       "<div>\n",
       "<style scoped>\n",
       "    .dataframe tbody tr th:only-of-type {\n",
       "        vertical-align: middle;\n",
       "    }\n",
       "\n",
       "    .dataframe tbody tr th {\n",
       "        vertical-align: top;\n",
       "    }\n",
       "\n",
       "    .dataframe thead th {\n",
       "        text-align: right;\n",
       "    }\n",
       "</style>\n",
       "<table border=\"1\" class=\"dataframe\">\n",
       "  <thead>\n",
       "    <tr style=\"text-align: right;\">\n",
       "      <th></th>\n",
       "      <th>0</th>\n",
       "      <th>1</th>\n",
       "      <th>2</th>\n",
       "      <th>3</th>\n",
       "    </tr>\n",
       "  </thead>\n",
       "  <tbody>\n",
       "    <tr>\n",
       "      <th>Líder de Grupo</th>\n",
       "      <td>8.0</td>\n",
       "      <td>2.0</td>\n",
       "      <td>0.0</td>\n",
       "      <td>0.0</td>\n",
       "    </tr>\n",
       "    <tr>\n",
       "      <th>Administración</th>\n",
       "      <td>3.0</td>\n",
       "      <td>0.0</td>\n",
       "      <td>0.0</td>\n",
       "      <td>0.0</td>\n",
       "    </tr>\n",
       "    <tr>\n",
       "      <th>Anfitriones</th>\n",
       "      <td>9.0</td>\n",
       "      <td>0.0</td>\n",
       "      <td>0.0</td>\n",
       "      <td>0.0</td>\n",
       "    </tr>\n",
       "    <tr>\n",
       "      <th>Cafetería</th>\n",
       "      <td>4.0</td>\n",
       "      <td>4.0</td>\n",
       "      <td>0.0</td>\n",
       "      <td>0.0</td>\n",
       "    </tr>\n",
       "    <tr>\n",
       "      <th>Comunidad Vertical</th>\n",
       "      <td>0.0</td>\n",
       "      <td>0.0</td>\n",
       "      <td>1.0</td>\n",
       "      <td>0.0</td>\n",
       "    </tr>\n",
       "  </tbody>\n",
       "</table>\n",
       "</div>"
      ],
      "text/plain": [
       "                      0    1    2    3\n",
       " Líder de Grupo     8.0  2.0  0.0  0.0\n",
       "Administración      3.0  0.0  0.0  0.0\n",
       "Anfitriones         9.0  0.0  0.0  0.0\n",
       "Cafetería           4.0  4.0  0.0  0.0\n",
       "Comunidad Vertical  0.0  0.0  1.0  0.0"
      ]
     },
     "execution_count": 56,
     "metadata": {},
     "output_type": "execute_result"
    }
   ],
   "source": [
    "zero_split_service_women.head()"
   ]
  },
  {
   "cell_type": "code",
   "execution_count": 57,
   "id": "ccb26bbf",
   "metadata": {},
   "outputs": [
    {
     "name": "stdout",
     "output_type": "stream",
     "text": [
      " Líder de Grupo       10.0\n",
      "Administración         3.0\n",
      "Anfitriones            9.0\n",
      "Cafetería              8.0\n",
      "Comunidad Vertical     1.0\n",
      "Jovenes Conexión       5.0\n",
      "Mujeres Conexión       4.0\n",
      "Multimedia/Sonido      1.0\n",
      "Música                 7.0\n",
      "Team Creativo          2.0\n",
      "Uno+                   3.0\n",
      "Vertical Kids         15.0\n",
      "dtype: float64\n"
     ]
    }
   ],
   "source": [
    "sum_split_service_women = zero_split_service_women[0] + zero_split_service_women[1] + zero_split_service_women[2] + zero_split_service_women[3]\n",
    "print(sum_split_service_women)"
   ]
  },
  {
   "cell_type": "code",
   "execution_count": 60,
   "id": "5b4cfd31",
   "metadata": {},
   "outputs": [
    {
     "data": {
      "image/png": "[encoded data removed]",
      "text/plain": [
       "<Figure size 720x720 with 1 Axes>"
      ]
     },
     "metadata": {
      "needs_background": "light"
     },
     "output_type": "display_data"
    },
    {
     "data": {
      "text/plain": [
       "<Figure size 432x288 with 0 Axes>"
      ]
     },
     "metadata": {},
     "output_type": "display_data"
    }
   ],
   "source": [
    "# Still have to check it\n",
    "plt.figure(figsize=(10, 10))\n",
    "sum_split_service_women.plot(kind = 'bar')\n",
    "plt.title('Women at different areas of Service at Local Church')\n",
    "plt.show()\n",
    "plt.savefig('test.png', bbox_inches='tight')"
   ]
  }
 ],
 "metadata": {
  "kernelspec": {
   "display_name": "Python 3 (ipykernel)",
   "language": "python",
   "name": "python3"
  },
  "language_info": {
   "codemirror_mode": {
    "name": "ipython",
    "version": 3
   },
   "file_extension": ".py",
   "mimetype": "text/x-python",
   "name": "python",
   "nbconvert_exporter": "python",
   "pygments_lexer": "ipython3",
   "version": "3.9.7"
  }
 },
 "nbformat": 4,
 "nbformat_minor": 5
}
